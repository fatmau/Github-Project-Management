{
 "cells": [
  {
   "cell_type": "markdown",
   "metadata": {},
   "source": [
    "<a id='intro'></a>\n",
    "## Scatter Diagram for Task Completion Time\n",
    "\n",
    "In this notebook, main goal is generating a project diagram displaying daily mean/Q1/Q3/std of story cycle times by;\n",
    "\n",
    "* reading issue data from a csv file\n",
    "* calculating daily mean/Q1/Q3/std\n",
    "* calculation all time averages of cycle time\n",
    "* plotting all findings on a single diagram"
   ]
  },
  {
   "cell_type": "code",
   "execution_count": 20,
   "metadata": {},
   "outputs": [],
   "source": [
    "import pandas as pd\n",
    "import math\n",
    "import numpy as np\n",
    "\n",
    "from plotly.offline import plot\n",
    "import plotly.graph_objs as go"
   ]
  },
  {
   "cell_type": "code",
   "execution_count": 21,
   "metadata": {},
   "outputs": [
    {
     "data": {
      "text/html": [
       "<div>\n",
       "<style scoped>\n",
       "    .dataframe tbody tr th:only-of-type {\n",
       "        vertical-align: middle;\n",
       "    }\n",
       "\n",
       "    .dataframe tbody tr th {\n",
       "        vertical-align: top;\n",
       "    }\n",
       "\n",
       "    .dataframe thead th {\n",
       "        text-align: right;\n",
       "    }\n",
       "</style>\n",
       "<table border=\"1\" class=\"dataframe\">\n",
       "  <thead>\n",
       "    <tr style=\"text-align: right;\">\n",
       "      <th></th>\n",
       "      <th>issue_id</th>\n",
       "      <th>issue_type</th>\n",
       "      <th>in_progress</th>\n",
       "      <th>sign_off</th>\n",
       "      <th>done_fd</th>\n",
       "      <th>complete</th>\n",
       "    </tr>\n",
       "  </thead>\n",
       "  <tbody>\n",
       "    <tr>\n",
       "      <th>5</th>\n",
       "      <td>418</td>\n",
       "      <td>bug</td>\n",
       "      <td>0</td>\n",
       "      <td>1</td>\n",
       "      <td>2020-03-12</td>\n",
       "      <td>1</td>\n",
       "    </tr>\n",
       "    <tr>\n",
       "      <th>8</th>\n",
       "      <td>415</td>\n",
       "      <td>spike</td>\n",
       "      <td>2</td>\n",
       "      <td>4</td>\n",
       "      <td>2020-03-17</td>\n",
       "      <td>6</td>\n",
       "    </tr>\n",
       "    <tr>\n",
       "      <th>9</th>\n",
       "      <td>414</td>\n",
       "      <td>story</td>\n",
       "      <td>0</td>\n",
       "      <td>1</td>\n",
       "      <td>2020-03-11</td>\n",
       "      <td>1</td>\n",
       "    </tr>\n",
       "  </tbody>\n",
       "</table>\n",
       "</div>"
      ],
      "text/plain": [
       "   issue_id issue_type  in_progress  sign_off    done_fd  complete\n",
       "5       418        bug            0         1 2020-03-12         1\n",
       "8       415      spike            2         4 2020-03-17         6\n",
       "9       414      story            0         1 2020-03-11         1"
      ]
     },
     "execution_count": 21,
     "metadata": {},
     "output_type": "execute_result"
    }
   ],
   "source": [
    "df = pd.read_csv(\n",
    "    'github_issues.csv', usecols=['issue_id', 'done_fd', 'issue_type', 'in_progress', 'sign_off'], parse_dates=['done_fd']).dropna()\n",
    "df['complete'] = df['in_progress'] + df['sign_off']\n",
    "df.head(3)"
   ]
  },
  {
   "cell_type": "code",
   "execution_count": 22,
   "metadata": {},
   "outputs": [
    {
     "data": {
      "text/html": [
       "<div>\n",
       "<style scoped>\n",
       "    .dataframe tbody tr th:only-of-type {\n",
       "        vertical-align: middle;\n",
       "    }\n",
       "\n",
       "    .dataframe tbody tr th {\n",
       "        vertical-align: top;\n",
       "    }\n",
       "\n",
       "    .dataframe thead th {\n",
       "        text-align: right;\n",
       "    }\n",
       "</style>\n",
       "<table border=\"1\" class=\"dataframe\">\n",
       "  <thead>\n",
       "    <tr style=\"text-align: right;\">\n",
       "      <th></th>\n",
       "      <th>issue_id</th>\n",
       "      <th>issue_type</th>\n",
       "      <th>in_progress</th>\n",
       "      <th>sign_off</th>\n",
       "      <th>done_fd</th>\n",
       "      <th>complete</th>\n",
       "    </tr>\n",
       "  </thead>\n",
       "  <tbody>\n",
       "    <tr>\n",
       "      <th>5</th>\n",
       "      <td>418</td>\n",
       "      <td>bug</td>\n",
       "      <td>0</td>\n",
       "      <td>1</td>\n",
       "      <td>2020-03-12</td>\n",
       "      <td>1</td>\n",
       "    </tr>\n",
       "    <tr>\n",
       "      <th>9</th>\n",
       "      <td>414</td>\n",
       "      <td>story</td>\n",
       "      <td>0</td>\n",
       "      <td>1</td>\n",
       "      <td>2020-03-11</td>\n",
       "      <td>1</td>\n",
       "    </tr>\n",
       "    <tr>\n",
       "      <th>13</th>\n",
       "      <td>410</td>\n",
       "      <td>bug</td>\n",
       "      <td>0</td>\n",
       "      <td>5</td>\n",
       "      <td>2020-03-10</td>\n",
       "      <td>5</td>\n",
       "    </tr>\n",
       "  </tbody>\n",
       "</table>\n",
       "</div>"
      ],
      "text/plain": [
       "    issue_id issue_type  in_progress  sign_off    done_fd  complete\n",
       "5        418        bug            0         1 2020-03-12         1\n",
       "9        414      story            0         1 2020-03-11         1\n",
       "13       410        bug            0         5 2020-03-10         5"
      ]
     },
     "execution_count": 22,
     "metadata": {},
     "output_type": "execute_result"
    }
   ],
   "source": [
    "# filter issues by types, only get the implementation stories\n",
    "types = ['bug', 'story', 'techdebt'] \n",
    "df = df[df.issue_type.isin(types)]\n",
    "df.head(3)"
   ]
  },
  {
   "cell_type": "code",
   "execution_count": 23,
   "metadata": {},
   "outputs": [
    {
     "data": {
      "text/html": [
       "<div>\n",
       "<style scoped>\n",
       "    .dataframe tbody tr th:only-of-type {\n",
       "        vertical-align: middle;\n",
       "    }\n",
       "\n",
       "    .dataframe tbody tr th {\n",
       "        vertical-align: top;\n",
       "    }\n",
       "\n",
       "    .dataframe thead th {\n",
       "        text-align: right;\n",
       "    }\n",
       "</style>\n",
       "<table border=\"1\" class=\"dataframe\">\n",
       "  <thead>\n",
       "    <tr style=\"text-align: right;\">\n",
       "      <th></th>\n",
       "      <th>issue_id</th>\n",
       "      <th>issue_type</th>\n",
       "      <th>in_progress</th>\n",
       "      <th>sign_off</th>\n",
       "      <th>done_fd</th>\n",
       "      <th>complete</th>\n",
       "      <th>info</th>\n",
       "    </tr>\n",
       "  </thead>\n",
       "  <tbody>\n",
       "    <tr>\n",
       "      <th>5</th>\n",
       "      <td>418</td>\n",
       "      <td>bug</td>\n",
       "      <td>0</td>\n",
       "      <td>1</td>\n",
       "      <td>2020-03-12</td>\n",
       "      <td>1</td>\n",
       "      <td>418,bug</td>\n",
       "    </tr>\n",
       "    <tr>\n",
       "      <th>9</th>\n",
       "      <td>414</td>\n",
       "      <td>story</td>\n",
       "      <td>0</td>\n",
       "      <td>1</td>\n",
       "      <td>2020-03-11</td>\n",
       "      <td>1</td>\n",
       "      <td>414,story</td>\n",
       "    </tr>\n",
       "    <tr>\n",
       "      <th>13</th>\n",
       "      <td>410</td>\n",
       "      <td>bug</td>\n",
       "      <td>0</td>\n",
       "      <td>5</td>\n",
       "      <td>2020-03-10</td>\n",
       "      <td>5</td>\n",
       "      <td>410,bug</td>\n",
       "    </tr>\n",
       "  </tbody>\n",
       "</table>\n",
       "</div>"
      ],
      "text/plain": [
       "    issue_id issue_type  in_progress  sign_off    done_fd  complete       info\n",
       "5        418        bug            0         1 2020-03-12         1    418,bug\n",
       "9        414      story            0         1 2020-03-11         1  414,story\n",
       "13       410        bug            0         5 2020-03-10         5    410,bug"
      ]
     },
     "execution_count": 23,
     "metadata": {},
     "output_type": "execute_result"
    }
   ],
   "source": [
    "# concatenating type with ID column \n",
    "df[\"info\"]= df[\"issue_id\"].astype(str) + ',' + df[\"issue_type\"]\n",
    "df.head(3)"
   ]
  },
  {
   "cell_type": "code",
   "execution_count": 24,
   "metadata": {},
   "outputs": [
    {
     "name": "stdout",
     "output_type": "stream",
     "text": [
      "4.0\n"
     ]
    }
   ],
   "source": [
    "median = df['complete'].median()\n",
    "print(median)"
   ]
  },
  {
   "cell_type": "code",
   "execution_count": 25,
   "metadata": {},
   "outputs": [
    {
     "data": {
      "text/html": [
       "<div>\n",
       "<style scoped>\n",
       "    .dataframe tbody tr th:only-of-type {\n",
       "        vertical-align: middle;\n",
       "    }\n",
       "\n",
       "    .dataframe tbody tr th {\n",
       "        vertical-align: top;\n",
       "    }\n",
       "\n",
       "    .dataframe thead tr th {\n",
       "        text-align: left;\n",
       "    }\n",
       "\n",
       "    .dataframe thead tr:last-of-type th {\n",
       "        text-align: right;\n",
       "    }\n",
       "</style>\n",
       "<table border=\"1\" class=\"dataframe\">\n",
       "  <thead>\n",
       "    <tr>\n",
       "      <th></th>\n",
       "      <th colspan=\"4\" halign=\"left\">complete</th>\n",
       "    </tr>\n",
       "    <tr>\n",
       "      <th></th>\n",
       "      <th>mean</th>\n",
       "      <th>std</th>\n",
       "      <th>q1</th>\n",
       "      <th>q3</th>\n",
       "    </tr>\n",
       "    <tr>\n",
       "      <th>done_fd</th>\n",
       "      <th></th>\n",
       "      <th></th>\n",
       "      <th></th>\n",
       "      <th></th>\n",
       "    </tr>\n",
       "  </thead>\n",
       "  <tbody>\n",
       "    <tr>\n",
       "      <th>2019-09-25</th>\n",
       "      <td>0.0</td>\n",
       "      <td>0.000000</td>\n",
       "      <td>0.0</td>\n",
       "      <td>0.0</td>\n",
       "    </tr>\n",
       "    <tr>\n",
       "      <th>2019-10-07</th>\n",
       "      <td>6.0</td>\n",
       "      <td>6.000000</td>\n",
       "      <td>6.0</td>\n",
       "      <td>6.0</td>\n",
       "    </tr>\n",
       "    <tr>\n",
       "      <th>2019-10-14</th>\n",
       "      <td>9.8</td>\n",
       "      <td>6.797058</td>\n",
       "      <td>6.0</td>\n",
       "      <td>14.0</td>\n",
       "    </tr>\n",
       "  </tbody>\n",
       "</table>\n",
       "</div>"
      ],
      "text/plain": [
       "           complete                     \n",
       "               mean       std   q1    q3\n",
       "done_fd                                 \n",
       "2019-09-25      0.0  0.000000  0.0   0.0\n",
       "2019-10-07      6.0  6.000000  6.0   6.0\n",
       "2019-10-14      9.8  6.797058  6.0  14.0"
      ]
     },
     "execution_count": 25,
     "metadata": {},
     "output_type": "execute_result"
    }
   ],
   "source": [
    "# daily mean, standard deviation, Q1, and Q3 is calculated.\n",
    "def q1(x):\n",
    "    return x.quantile(0.25)\n",
    "\n",
    "def q3(x):\n",
    "    return x.quantile(0.75)\n",
    "\n",
    "f = {'complete': ['mean', 'std', q1, q3]}\n",
    "df_define = df.groupby('done_fd').agg(f)\n",
    "\n",
    "df_define.complete['std'] = df_define.complete['std'].fillna(df.groupby('done_fd')['complete'].last())\n",
    "\n",
    "df_define.head(3)"
   ]
  },
  {
   "cell_type": "markdown",
   "metadata": {},
   "source": [
    "## Plotting\n",
    "Here we will display multiple scatters in one layout;\n",
    "\n",
    "* mean per day\n",
    "* upper & lower bound per day\n",
    "* issues by dot plotting"
   ]
  },
  {
   "cell_type": "code",
   "execution_count": 32,
   "metadata": {
    "scrolled": true
   },
   "outputs": [
    {
     "data": {
      "text/plain": [
       "'file:///Users/fatmaurek/Notebooks/Github Project Management/control_diagram.html'"
      ]
     },
     "execution_count": 32,
     "metadata": {},
     "output_type": "execute_result"
    }
   ],
   "source": [
    "upper_bound = go.Scatter(\n",
    "    name='Upper Bound',\n",
    "    x=df_define.complete.index,\n",
    "    y=df_define.complete['mean'] + df_define.complete['std'],\n",
    "    mode='lines',\n",
    "    marker=dict(color=\"#444\"),\n",
    "    line=dict(width=0),\n",
    "    fillcolor='rgba(68, 68, 68, 0.3)',\n",
    "    fill='tonexty')\n",
    "\n",
    "trace = go.Scatter(\n",
    "    name='Rolling Mean',\n",
    "    x=df_define.complete.index,\n",
    "    y=df_define.complete['mean'],\n",
    "    mode='lines',\n",
    "    line=dict(color='rgb(31, 119, 180)'),\n",
    "    fillcolor='rgba(68, 68, 68, 0.3)',\n",
    "    fill='tonexty')\n",
    "\n",
    "lower_bound = go.Scatter(\n",
    "    name='Lower Bound',\n",
    "    x=df_define.complete.index,\n",
    "    y=df_define.complete['mean'] - df_define.complete['std'],\n",
    "    marker=dict(color=\"#444\"),\n",
    "    fillcolor='rgba(68, 68, 68, 0.3)',\n",
    "    line=dict(width=0),\n",
    "    mode='lines')\n",
    "\n",
    "average = go.Scatter(\n",
    "    name='Average',\n",
    "    x=df.done_fd,\n",
    "    y=[median] * len(df),\n",
    "    mode='lines')\n",
    "\n",
    "dots = go.Scatter(name=\"Issue\",\n",
    "                  x=df.done_fd, \n",
    "                  y=df.complete, \n",
    "                  hovertext=df['info'].astype(str),\n",
    "                  mode='markers', \n",
    "                  marker=dict(\n",
    "                    color=df['complete'], #set color equal to a variable\n",
    "                    colorscale='Viridis', # one of plotly colorscales\n",
    "                    showscale=True)\n",
    "                 )\n",
    "\n",
    "# Trace order can be important\n",
    "# with continuous error bars\n",
    "data = [lower_bound, trace, upper_bound, average, dots]\n",
    "\n",
    "layout = go.Layout(\n",
    "    hovermode='closest',\n",
    "    yaxis=dict(title='Completed in Days'),\n",
    "    title='Story/TechDebt/Bug - Completion Time Diagram<br>Notice the hover text!',\n",
    "    showlegend = False)\n",
    "\n",
    "fig = go.Figure(data=data, layout=layout)\n",
    "plot(fig, filename='control_diagram.html')"
   ]
  },
  {
   "cell_type": "code",
   "execution_count": null,
   "metadata": {},
   "outputs": [],
   "source": []
  }
 ],
 "metadata": {
  "kernelspec": {
   "display_name": "Python 3",
   "language": "python",
   "name": "python3"
  },
  "language_info": {
   "codemirror_mode": {
    "name": "ipython",
    "version": 3
   },
   "file_extension": ".py",
   "mimetype": "text/x-python",
   "name": "python",
   "nbconvert_exporter": "python",
   "pygments_lexer": "ipython3",
   "version": "3.7.3"
  }
 },
 "nbformat": 4,
 "nbformat_minor": 2
}
